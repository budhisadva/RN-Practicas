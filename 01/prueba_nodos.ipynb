{
 "cells": [
  {
   "cell_type": "code",
   "execution_count": 2,
   "metadata": {},
   "outputs": [],
   "source": [
    "from modelos import *\n",
    "import numpy as np"
   ]
  },
  {
   "cell_type": "code",
   "execution_count": 2,
   "metadata": {},
   "outputs": [],
   "source": [
    "class NodoSuma(Node):\n",
    "    def __init__(self):\n",
    "        super().__init__() # llama al constructor de las superclase Node\n",
    "\n",
    "    def forward(self, *inputs):\n",
    "        self.out = np.sum(inputs)\n",
    "        return self.out"
   ]
  },
  {
   "cell_type": "code",
   "execution_count": 3,
   "metadata": {},
   "outputs": [
    {
     "name": "stdout",
     "output_type": "stream",
     "text": [
      "NodoSuma: 12\n"
     ]
    }
   ],
   "source": [
    "nodo_suma = NodoSuma()\n",
    "resultado_suma = nodo_suma(3,4,5)\n",
    "print(f\"NodoSuma: {resultado_suma}\")"
   ]
  },
  {
   "cell_type": "code",
   "execution_count": 4,
   "metadata": {},
   "outputs": [],
   "source": [
    "class NodoSigmoide(Node):\n",
    "    def __init__(self):\n",
    "        super().__init__()\n",
    "\n",
    "    def forward(self, x):\n",
    "        self.out = 1 / (1 + np.exp(-x))\n",
    "        return self.out\n",
    "\n",
    "    def backward(self, grad_out):\n",
    "        # calculando el gradiente de la funcion sigmoide\n",
    "        sig_grad = self.out * (1 - self.out)\n",
    "        self.gradiente = grad_out * sig_grad\n",
    "        return self.gradiente"
   ]
  },
  {
   "cell_type": "code",
   "execution_count": 5,
   "metadata": {},
   "outputs": [
    {
     "name": "stdout",
     "output_type": "stream",
     "text": [
      "NodoSigmoide: 0.5\n"
     ]
    }
   ],
   "source": [
    "nodo_sigmoide = NodoSigmoide()\n",
    "resultado_sigmoide = nodo_sigmoide(0)\n",
    "print(f\"NodoSigmoide: {resultado_sigmoide}\")"
   ]
  },
  {
   "cell_type": "code",
   "execution_count": 6,
   "metadata": {},
   "outputs": [
    {
     "name": "stdout",
     "output_type": "stream",
     "text": [
      "gradiente del nodo sigmoide: 1.25\n"
     ]
    }
   ],
   "source": [
    "grad = nodo_sigmoide.backward(5)\n",
    "print(f'gradiente del nodo sigmoide: {grad}')"
   ]
  },
  {
   "cell_type": "code",
   "execution_count": 7,
   "metadata": {},
   "outputs": [
    {
     "data": {
      "text/plain": [
       "1.25"
      ]
     },
     "execution_count": 7,
     "metadata": {},
     "output_type": "execute_result"
    }
   ],
   "source": [
    "nodo_sigmoide.gradiente"
   ]
  }
 ],
 "metadata": {
  "kernelspec": {
   "display_name": "DataScience",
   "language": "python",
   "name": "python3"
  },
  "language_info": {
   "codemirror_mode": {
    "name": "ipython",
    "version": 3
   },
   "file_extension": ".py",
   "mimetype": "text/x-python",
   "name": "python",
   "nbconvert_exporter": "python",
   "pygments_lexer": "ipython3",
   "version": "3.12.0"
  }
 },
 "nbformat": 4,
 "nbformat_minor": 2
}
